{
  "nbformat": 4,
  "nbformat_minor": 0,
  "metadata": {
    "colab": {
      "provenance": []
    },
    "kernelspec": {
      "name": "python3",
      "display_name": "Python 3"
    },
    "language_info": {
      "name": "python"
    }
  },
  "cells": [
    {
      "cell_type": "markdown",
      "source": [
        "Data Set\n",
        "\n",
        "Spotify Tracks Dataset\n",
        "\n",
        "[Link Kaggle](https://www.kaggle.com/datasets/maharshipandya/-spotify-tracks-dataset)"
      ],
      "metadata": {
        "id": "xZoNRxfefwB1"
      }
    },
    {
      "cell_type": "code",
      "source": [
        "from google.colab import drive\n",
        "drive.mount('/content/drive')"
      ],
      "metadata": {
        "colab": {
          "base_uri": "https://localhost:8080/"
        },
        "id": "g_Y0oY70gfhk",
        "outputId": "af5fa28e-4b2a-417d-e6d0-2abd1f9d8456"
      },
      "execution_count": null,
      "outputs": [
        {
          "output_type": "stream",
          "name": "stdout",
          "text": [
            "Mounted at /content/drive\n"
          ]
        }
      ]
    },
    {
      "cell_type": "code",
      "source": [
        "!pip install pyspark"
      ],
      "metadata": {
        "colab": {
          "base_uri": "https://localhost:8080/"
        },
        "id": "ftxhjMYuhI-M",
        "outputId": "592a4477-518c-430c-e238-eff675f91c68"
      },
      "execution_count": null,
      "outputs": [
        {
          "output_type": "stream",
          "name": "stdout",
          "text": [
            "Looking in indexes: https://pypi.org/simple, https://us-python.pkg.dev/colab-wheels/public/simple/\n",
            "Collecting pyspark\n",
            "  Downloading pyspark-3.3.1.tar.gz (281.4 MB)\n",
            "\u001b[K     |████████████████████████████████| 281.4 MB 44 kB/s \n",
            "\u001b[?25hCollecting py4j==0.10.9.5\n",
            "  Downloading py4j-0.10.9.5-py2.py3-none-any.whl (199 kB)\n",
            "\u001b[K     |████████████████████████████████| 199 kB 68.5 MB/s \n",
            "\u001b[?25hBuilding wheels for collected packages: pyspark\n",
            "  Building wheel for pyspark (setup.py) ... \u001b[?25l\u001b[?25hdone\n",
            "  Created wheel for pyspark: filename=pyspark-3.3.1-py2.py3-none-any.whl size=281845512 sha256=0357e635e024d4134c6d3b7742dec9cd16fbe0f3ec777e50e79ef01294575eea\n",
            "  Stored in directory: /root/.cache/pip/wheels/42/59/f5/79a5bf931714dcd201b26025347785f087370a10a3329a899c\n",
            "Successfully built pyspark\n",
            "Installing collected packages: py4j, pyspark\n",
            "Successfully installed py4j-0.10.9.5 pyspark-3.3.1\n"
          ]
        }
      ]
    },
    {
      "cell_type": "code",
      "source": [
        "from pyspark.sql import SparkSession\n",
        "spark = SparkSession.builder\\\n",
        "        .master(\"local\")\\\n",
        "        .appName(\"Colab\")\\\n",
        "        .config('spark.ui.port', '4050')\\\n",
        "        .getOrCreate()"
      ],
      "metadata": {
        "id": "QZm-dAC7hZIT"
      },
      "execution_count": null,
      "outputs": []
    },
    {
      "cell_type": "code",
      "source": [
        "spark"
      ],
      "metadata": {
        "colab": {
          "base_uri": "https://localhost:8080/",
          "height": 219
        },
        "id": "tESLvbqkhfw8",
        "outputId": "1969408c-0a5f-45de-c5d4-b97a379d4a26"
      },
      "execution_count": null,
      "outputs": [
        {
          "output_type": "execute_result",
          "data": {
            "text/plain": [
              "<pyspark.sql.session.SparkSession at 0x7fa8bf131d90>"
            ],
            "text/html": [
              "\n",
              "            <div>\n",
              "                <p><b>SparkSession - in-memory</b></p>\n",
              "                \n",
              "        <div>\n",
              "            <p><b>SparkContext</b></p>\n",
              "\n",
              "            <p><a href=\"http://75cf41a93e0a:4050\">Spark UI</a></p>\n",
              "\n",
              "            <dl>\n",
              "              <dt>Version</dt>\n",
              "                <dd><code>v3.3.1</code></dd>\n",
              "              <dt>Master</dt>\n",
              "                <dd><code>local</code></dd>\n",
              "              <dt>AppName</dt>\n",
              "                <dd><code>Colab</code></dd>\n",
              "            </dl>\n",
              "        </div>\n",
              "        \n",
              "            </div>\n",
              "        "
            ]
          },
          "metadata": {},
          "execution_count": 4
        }
      ]
    },
    {
      "cell_type": "code",
      "source": [
        "sc = spark.sparkContext"
      ],
      "metadata": {
        "id": "ZX1suQuzhkrN"
      },
      "execution_count": null,
      "outputs": []
    },
    {
      "cell_type": "code",
      "source": [
        "data = \"/content/drive/MyDrive/data_sample/BigData2022/Spotify Tracks Dataset.csv\""
      ],
      "metadata": {
        "id": "RG0RaGwB_7QI"
      },
      "execution_count": null,
      "outputs": []
    },
    {
      "cell_type": "code",
      "source": [
        "#to to read CSV file into RDD of Strings\n",
        "lines = sc.textFile(data)"
      ],
      "metadata": {
        "id": "qSbViRQHhpfm"
      },
      "execution_count": null,
      "outputs": []
    },
    {
      "cell_type": "code",
      "source": [
        "print(type(lines))"
      ],
      "metadata": {
        "colab": {
          "base_uri": "https://localhost:8080/"
        },
        "id": "H-xjlnv_idpO",
        "outputId": "45153500-d2ec-4912-c3a4-5314d426f749"
      },
      "execution_count": null,
      "outputs": [
        {
          "output_type": "stream",
          "name": "stdout",
          "text": [
            "<class 'pyspark.rdd.RDD'>\n"
          ]
        }
      ]
    },
    {
      "cell_type": "code",
      "source": [
        "lines.count()"
      ],
      "metadata": {
        "colab": {
          "base_uri": "https://localhost:8080/"
        },
        "id": "3ckezCy3IyxB",
        "outputId": "a2d27f59-86a1-4afd-ffaf-cd4176d6845c"
      },
      "execution_count": null,
      "outputs": [
        {
          "output_type": "execute_result",
          "data": {
            "text/plain": [
              "114001"
            ]
          },
          "metadata": {},
          "execution_count": 9
        }
      ]
    },
    {
      "cell_type": "code",
      "source": [
        "lines.take(2)"
      ],
      "metadata": {
        "colab": {
          "base_uri": "https://localhost:8080/"
        },
        "id": "tEYU8jYCnEaH",
        "outputId": "1ff068aa-6163-4ddb-9dcf-43a49b9ea86c"
      },
      "execution_count": null,
      "outputs": [
        {
          "output_type": "execute_result",
          "data": {
            "text/plain": [
              "[',track_id,artists,album_name,track_name,popularity,duration_ms,explicit,danceability,energy,key,loudness,mode,speechiness,acousticness,instrumentalness,liveness,valence,tempo,time_signature,track_genre',\n",
              " '0,5SuOikwiRyPMVoIQDJUgSV,Gen Hoshino,Comedy,Comedy,73,230666,FALSE,0.676,0.461,1,-6.746,0,0.143,0.0322,1.01E-06,0.358,0.715,87.917,4,acoustic']"
            ]
          },
          "metadata": {},
          "execution_count": 10
        }
      ]
    },
    {
      "cell_type": "code",
      "source": [
        "header_list = lines.take(1)[0].split(\",\")"
      ],
      "metadata": {
        "id": "6JEk0yEcA816"
      },
      "execution_count": null,
      "outputs": []
    },
    {
      "cell_type": "code",
      "source": [
        "print(header_list)"
      ],
      "metadata": {
        "colab": {
          "base_uri": "https://localhost:8080/"
        },
        "id": "iBAPronNBWeA",
        "outputId": "52e496f4-4351-4d86-e1b2-bb9f7a5fa730"
      },
      "execution_count": null,
      "outputs": [
        {
          "output_type": "stream",
          "name": "stdout",
          "text": [
            "['', 'track_id', 'artists', 'album_name', 'track_name', 'popularity', 'duration_ms', 'explicit', 'danceability', 'energy', 'key', 'loudness', 'mode', 'speechiness', 'acousticness', 'instrumentalness', 'liveness', 'valence', 'tempo', 'time_signature', 'track_genre']\n"
          ]
        }
      ]
    },
    {
      "cell_type": "code",
      "source": [
        "len(header_list)"
      ],
      "metadata": {
        "colab": {
          "base_uri": "https://localhost:8080/"
        },
        "id": "ZmfS0mKfGplx",
        "outputId": "4c980adc-274c-4446-db05-5825fc19d92b"
      },
      "execution_count": null,
      "outputs": [
        {
          "output_type": "execute_result",
          "data": {
            "text/plain": [
              "21"
            ]
          },
          "metadata": {},
          "execution_count": 13
        }
      ]
    },
    {
      "cell_type": "code",
      "source": [
        "def list_to_dict(l):\n",
        "  dic = {}\n",
        "  for i in range(len(l)):\n",
        "    dic[l[i]] = i\n",
        "  return(dic)"
      ],
      "metadata": {
        "id": "CWMA0tuu7SS4"
      },
      "execution_count": null,
      "outputs": []
    },
    {
      "cell_type": "code",
      "source": [
        "header_dict = list_to_dict(header_list)"
      ],
      "metadata": {
        "id": "cVWKnSg7NOTm"
      },
      "execution_count": null,
      "outputs": []
    },
    {
      "cell_type": "code",
      "source": [
        "print(header_dict)"
      ],
      "metadata": {
        "colab": {
          "base_uri": "https://localhost:8080/"
        },
        "id": "wC3ivJte9qgV",
        "outputId": "e33e915e-3d10-40be-bbf5-25c301802f7a"
      },
      "execution_count": null,
      "outputs": [
        {
          "output_type": "stream",
          "name": "stdout",
          "text": [
            "{'': 0, 'track_id': 1, 'artists': 2, 'album_name': 3, 'track_name': 4, 'popularity': 5, 'duration_ms': 6, 'explicit': 7, 'danceability': 8, 'energy': 9, 'key': 10, 'loudness': 11, 'mode': 12, 'speechiness': 13, 'acousticness': 14, 'instrumentalness': 15, 'liveness': 16, 'valence': 17, 'tempo': 18, 'time_signature': 19, 'track_genre': 20}\n"
          ]
        }
      ]
    },
    {
      "cell_type": "code",
      "source": [
        "#remove header from rdd\n",
        "header = lines.first()\n",
        "lines_data = lines.filter(lambda line: line != header)"
      ],
      "metadata": {
        "id": "c2m9z_FfCUmP"
      },
      "execution_count": null,
      "outputs": []
    },
    {
      "cell_type": "code",
      "source": [
        "#cheking that we have rdd without header\n",
        "print(lines_data.take(1))"
      ],
      "metadata": {
        "colab": {
          "base_uri": "https://localhost:8080/"
        },
        "id": "i4YPKRJYw5n-",
        "outputId": "aa5b2571-58c5-4ff9-ce99-80108ffbf9ff"
      },
      "execution_count": null,
      "outputs": [
        {
          "output_type": "stream",
          "name": "stdout",
          "text": [
            "['0,5SuOikwiRyPMVoIQDJUgSV,Gen Hoshino,Comedy,Comedy,73,230666,FALSE,0.676,0.461,1,-6.746,0,0.143,0.0322,1.01E-06,0.358,0.715,87.917,4,acoustic']\n"
          ]
        }
      ]
    },
    {
      "cell_type": "code",
      "source": [
        "#cheking number of rows in ddr without header\n",
        "lines_data.count()"
      ],
      "metadata": {
        "colab": {
          "base_uri": "https://localhost:8080/"
        },
        "id": "epS6QQF7SwQG",
        "outputId": "18e77753-f12e-4f21-9ec8-91bd6c42d82f"
      },
      "execution_count": null,
      "outputs": [
        {
          "output_type": "execute_result",
          "data": {
            "text/plain": [
              "114000"
            ]
          },
          "metadata": {},
          "execution_count": 19
        }
      ]
    },
    {
      "cell_type": "markdown",
      "source": [
        "For parsing CSV we need to map for every items in columns number of columns. \n",
        "\n",
        "It will be pairs of key values (number of column, item)\n",
        "\n",
        "For this reason we create function that get rdd line as parameter and return list pairs of key values"
      ],
      "metadata": {
        "id": "_7ODGPHKx6sD"
      }
    },
    {
      "cell_type": "code",
      "source": [
        "#func for creating list of pair(key,value)\n",
        "def list_of_tuple (line_rdd):\n",
        "  l = line_rdd.split(',') #split rdd line (string type)\n",
        "  list_tup = []\n",
        "  for i in range(len(l)): # number of columns (starting from 0 )\n",
        "    list_tup.append((i,l[i]))\n",
        "  return(list_tup)"
      ],
      "metadata": {
        "id": "oCyrG79tCV56"
      },
      "execution_count": null,
      "outputs": []
    },
    {
      "cell_type": "code",
      "source": [
        "#maping function list_of_tuple on all rdd \n",
        "pairs_rdd = lines_data.flatMap(lambda line: list_of_tuple(line))"
      ],
      "metadata": {
        "id": "B6JFa7bdC_CQ"
      },
      "execution_count": null,
      "outputs": []
    },
    {
      "cell_type": "code",
      "source": [
        "#cheking type\n",
        "type(pairs_rdd)"
      ],
      "metadata": {
        "colab": {
          "base_uri": "https://localhost:8080/"
        },
        "id": "J9LdbboMDvTj",
        "outputId": "b9025d50-3c90-4b3d-e2df-3573a623dac7"
      },
      "execution_count": null,
      "outputs": [
        {
          "output_type": "execute_result",
          "data": {
            "text/plain": [
              "pyspark.rdd.PipelinedRDD"
            ]
          },
          "metadata": {},
          "execution_count": 22
        }
      ]
    },
    {
      "cell_type": "code",
      "source": [
        "#cheking result of mapping \n",
        "print(pairs_rdd.take(42))"
      ],
      "metadata": {
        "colab": {
          "base_uri": "https://localhost:8080/"
        },
        "id": "DJLGetQrDzav",
        "outputId": "21d15f62-c7d3-49a5-abf5-f04842f57d42"
      },
      "execution_count": null,
      "outputs": [
        {
          "output_type": "stream",
          "name": "stdout",
          "text": [
            "[(0, '0'), (1, '5SuOikwiRyPMVoIQDJUgSV'), (2, 'Gen Hoshino'), (3, 'Comedy'), (4, 'Comedy'), (5, '73'), (6, '230666'), (7, 'FALSE'), (8, '0.676'), (9, '0.461'), (10, '1'), (11, '-6.746'), (12, '0'), (13, '0.143'), (14, '0.0322'), (15, '1.01E-06'), (16, '0.358'), (17, '0.715'), (18, '87.917'), (19, '4'), (20, 'acoustic'), (0, '1'), (1, '4qPNDBW1i3p13qLCt0Ki3A'), (2, 'Ben Woodward'), (3, 'Ghost (Acoustic)'), (4, 'Ghost - Acoustic'), (5, '55'), (6, '149610'), (7, 'FALSE'), (8, '0.42'), (9, '0.166'), (10, '1'), (11, '-17.235'), (12, '1'), (13, '0.0763'), (14, '0.924'), (15, '5.56E-06'), (16, '0.101'), (17, '0.267'), (18, '77.489'), (19, '4'), (20, 'acoustic')]\n"
          ]
        }
      ]
    },
    {
      "cell_type": "code",
      "source": [
        "#saving result of mapping\n",
        "pairs_rdd.saveAsTextFile(\"pairs_rdd5.txt\")"
      ],
      "metadata": {
        "id": "MAPs_Z9cdcv4"
      },
      "execution_count": null,
      "outputs": []
    },
    {
      "cell_type": "code",
      "source": [
        "#filter first 2 fields\n",
        "filter_rdd = pairs_rdd.filter(lambda x: x[0]<2)"
      ],
      "metadata": {
        "id": "ZUDMAi5h50gN"
      },
      "execution_count": null,
      "outputs": []
    },
    {
      "cell_type": "code",
      "source": [
        "filter_rdd.take(10)"
      ],
      "metadata": {
        "colab": {
          "base_uri": "https://localhost:8080/"
        },
        "id": "_jpR2VzZ7UPn",
        "outputId": "f98c38be-9bcb-4a07-9d71-452b10e8538d"
      },
      "execution_count": null,
      "outputs": [
        {
          "output_type": "execute_result",
          "data": {
            "text/plain": [
              "[(0, '0'),\n",
              " (1, '5SuOikwiRyPMVoIQDJUgSV'),\n",
              " (0, '1'),\n",
              " (1, '4qPNDBW1i3p13qLCt0Ki3A'),\n",
              " (0, '2'),\n",
              " (1, '1iJBSr7s7jYXzM8EGcbK5b'),\n",
              " (0, '3'),\n",
              " (1, '6lfxq3CG4xtTiEg7opyCyx'),\n",
              " (0, '4'),\n",
              " (1, '5vjLSffimiIP26QG5WcN2K')]"
            ]
          },
          "metadata": {},
          "execution_count": 57
        }
      ]
    },
    {
      "cell_type": "code",
      "source": [
        "#saving result of filter - first 2 fields\n",
        "filter_rdd.saveAsTextFile(\"filter_rdd.txt\")"
      ],
      "metadata": {
        "id": "PTzG60k8jSia"
      },
      "execution_count": null,
      "outputs": []
    },
    {
      "cell_type": "code",
      "source": [
        "#groupping by number of columns (by key)\n",
        "rdd_groupping = pairs_rdd.groupByKey().mapValues(list)"
      ],
      "metadata": {
        "id": "98HvqTI_-IEw"
      },
      "execution_count": null,
      "outputs": []
    },
    {
      "cell_type": "code",
      "source": [
        "#saving reault of grouping \n",
        "rdd_groupping.saveAsTextFile(\"rdd_groupping.txt\")"
      ],
      "metadata": {
        "id": "7FP4EuiAd6s_"
      },
      "execution_count": null,
      "outputs": []
    },
    {
      "cell_type": "code",
      "source": [
        "#now we can filter rdd take first 4 columns and group by key(number of columns)\n",
        "rdd_groupping_and_filter = pairs_rdd.filter(lambda x: x[0]<4).groupByKey().mapValues(list)"
      ],
      "metadata": {
        "id": "g-1qALBiqLo4"
      },
      "execution_count": null,
      "outputs": []
    },
    {
      "cell_type": "code",
      "source": [
        "#saving reault of grouping filterd rdd\n",
        "rdd_groupping_and_filter.saveAsTextFile(\"rdd_groupping_and_filter2.txt\")"
      ],
      "metadata": {
        "id": "3VqCcXyQqtig"
      },
      "execution_count": null,
      "outputs": []
    },
    {
      "cell_type": "code",
      "source": [
        "#chek how many groups we get(should be 4 = 4 columns)\n",
        "rdd_groupping_and_filter.count()"
      ],
      "metadata": {
        "colab": {
          "base_uri": "https://localhost:8080/"
        },
        "id": "TXtlwSy7pHOI",
        "outputId": "071c73c2-09a5-41df-ef2a-d777f30d20ed"
      },
      "execution_count": null,
      "outputs": [
        {
          "output_type": "execute_result",
          "data": {
            "text/plain": [
              "4"
            ]
          },
          "metadata": {},
          "execution_count": 60
        }
      ]
    },
    {
      "cell_type": "code",
      "source": [
        "#count how many items has each group\n",
        "rdd_groupping_and_filter2 = pairs_rdd.groupByKey().mapValues(len)"
      ],
      "metadata": {
        "id": "XV7pOYklrAWL"
      },
      "execution_count": null,
      "outputs": []
    },
    {
      "cell_type": "code",
      "source": [
        "rdd_groupping_and_filter2.take(21)"
      ],
      "metadata": {
        "colab": {
          "base_uri": "https://localhost:8080/"
        },
        "id": "EWIvF6furGMm",
        "outputId": "98c5b488-a0c6-4113-e167-0bb2fa5e5da1"
      },
      "execution_count": null,
      "outputs": [
        {
          "output_type": "execute_result",
          "data": {
            "text/plain": [
              "[(0, 114000),\n",
              " (1, 114000),\n",
              " (2, 114000),\n",
              " (3, 114000),\n",
              " (4, 114000),\n",
              " (5, 114000),\n",
              " (6, 114000),\n",
              " (7, 114000),\n",
              " (8, 114000),\n",
              " (9, 114000),\n",
              " (10, 114000),\n",
              " (11, 114000),\n",
              " (12, 114000),\n",
              " (13, 114000),\n",
              " (14, 114000),\n",
              " (15, 114000),\n",
              " (16, 114000),\n",
              " (17, 114000),\n",
              " (18, 114000),\n",
              " (19, 114000),\n",
              " (20, 114000)]"
            ]
          },
          "metadata": {},
          "execution_count": 67
        }
      ]
    },
    {
      "cell_type": "markdown",
      "source": [
        "Some more filters and grouping"
      ],
      "metadata": {
        "id": "CaIB2z548dnv"
      }
    },
    {
      "cell_type": "code",
      "source": [
        "#we also can filter value by some condition: track_genre = afrobeat \n",
        "filter_by_value = lines_data.filter(lambda a: a.find('afrobeat') != -1)"
      ],
      "metadata": {
        "id": "IoOXiq3gYh1T"
      },
      "execution_count": null,
      "outputs": []
    },
    {
      "cell_type": "code",
      "source": [
        "#number of track_genre = afrobeat \n",
        "filter_by_value.count()"
      ],
      "metadata": {
        "colab": {
          "base_uri": "https://localhost:8080/"
        },
        "id": "ApcqDY-YZA_6",
        "outputId": "4fb8a55d-1139-4cf0-947b-15b95bf52cfd"
      },
      "execution_count": null,
      "outputs": [
        {
          "output_type": "execute_result",
          "data": {
            "text/plain": [
              "1000"
            ]
          },
          "metadata": {},
          "execution_count": 78
        }
      ]
    },
    {
      "cell_type": "code",
      "source": [
        "filter_by_value.take(2)"
      ],
      "metadata": {
        "colab": {
          "base_uri": "https://localhost:8080/"
        },
        "id": "yoKziGLoZjwE",
        "outputId": "c5111500-9917-4228-b4b8-e6a192ec0b92"
      },
      "execution_count": null,
      "outputs": [
        {
          "output_type": "execute_result",
          "data": {
            "text/plain": [
              "['1000,4pR4oQJULf7FDB54TleMyH,Limoblaze;Lecrae;Happi,Jireh (My Provider),Jireh (My Provider),64,168000,FALSE,0.443,0.778,0,-7.564,0,0.266,0.241,0,0.215,0.628,128.25,5,afrobeat',\n",
              " '1001,4Ds4bq6aqOSAp1T7DikOi4,Criolo,Ainda Há Tempo,Ainda Há Tempo,44,318360,FALSE,0.58,0.8,6,-7.528,1,0.345,0.281,0,0.0708,0.483,81.303,4,afrobeat']"
            ]
          },
          "metadata": {},
          "execution_count": 84
        }
      ]
    },
    {
      "cell_type": "code",
      "source": [
        "#to save results \n",
        "filter_by_value.saveAsTextFile(\"filter_afrobeat5.txt\")"
      ],
      "metadata": {
        "id": "KCw3bjHuaZbS"
      },
      "execution_count": null,
      "outputs": []
    },
    {
      "cell_type": "code",
      "source": [
        "#group all track_genre = afrobeat \n",
        "group_result_filter = filter_by_value.groupBy(lambda a: a.find('afrobeat') != -1).mapValues(list)"
      ],
      "metadata": {
        "id": "8uwrMwHhb0yb"
      },
      "execution_count": null,
      "outputs": []
    },
    {
      "cell_type": "code",
      "source": [
        "#save result of grouping\n",
        "group_result_filter.saveAsTextFile(\"result_group_by_afrobeat6.txt\")"
      ],
      "metadata": {
        "id": "67iPK1uHdQW0"
      },
      "execution_count": null,
      "outputs": []
    }
  ]
}